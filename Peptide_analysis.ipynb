{
 "cells": [
  {
   "cell_type": "code",
   "execution_count": 67,
   "metadata": {},
   "outputs": [],
   "source": [
    "import sys\n",
    "import os\n",
    "import shutil\n",
    "import ftplib\n",
    "import pandas as pd\n",
    "import matplotlib.pyplot as plt\n",
    "import seaborn as sns\n",
    "import re\n",
    "from contextlib import closing\n",
    "import urllib.request as request\n",
    "import requests\n",
    "import numpy as np\n",
    "import ahocorasick\n",
    "from Bio import SeqIO\n",
    "import hashlib\n",
    "from pyteomics import mztab"
   ]
  },
  {
   "cell_type": "code",
   "execution_count": 81,
   "metadata": {},
   "outputs": [],
   "source": [
    "'''\n",
    "General\n",
    "'''\n",
    "#connect to ftp and get the list of samples\n",
    "ftp_url = 'ftp.pride.ebi.ac.uk'\n",
    "samples_dir = '/pride/data/proteomes/proteogenomics/pgdb-manuscript/'\n",
    "#'pride/data/proteomes/proteogenomics/cell-lines'\n",
    "id_dir = 'proteomics_lfq'\n",
    "triqler_file_name = 'out_triqler.tsv'\n",
    "mzTab_file_name = 'out.mzTab'\n",
    "output_file = 'identified_peptides.tsv'\n",
    "contaminants = 'contaminants.fasta'\n",
    "canonical_proteins_fasta = 'UniProtr11Dec2019+Ensembl103+GENCODE33+RefSeq29May2020.proteins.fasta'\n",
    "peps_id_dir = 'peptide_ids'\n",
    "checksums_file = 'checklist.chk'\n",
    "\n",
    "#get all canonical sequences from fasta\n",
    "allcan_seqs = []\n",
    "parsed_file = SeqIO.parse(canonical_proteins_fasta,\"fasta\")\n",
    "for record in parsed_file:\n",
    "    allcan_seqs.append(str(record.seq))\n",
    "allcan_seqs = list(set(allcan_seqs))\n",
    "\n",
    "#get protein IDs from the contaminated database\n",
    "conatm_ids = set([x.strip('>').strip('\\n').split(' ')[0] for x in open(contaminants, 'r').readlines() if x.startswith('>')])\n",
    "\n",
    "def rep(x):\n",
    "    return re.sub('{[^}]*}', '', x.replace('(','{').replace(')', '}').replace('.',''))"
   ]
  },
  {
   "cell_type": "code",
   "execution_count": 21,
   "metadata": {},
   "outputs": [
    {
     "name": "stdout",
     "output_type": "stream",
     "text": [
      "Number of Samples completed: 69\n"
     ]
    }
   ],
   "source": [
    "#Get list of samples\n",
    "try:\n",
    "    ftp = ftplib.FTP(ftp_url, timeout=3600)\n",
    "    ftp.login()\n",
    "    ftplib.FTP.maxline = 100000\n",
    "    ftp.cwd(samples_dir)\n",
    "    samples_list = ftp.nlst()\n",
    "except ftplib.all_errors:\n",
    "    print('Failed to connect to the ftp site')\n",
    "\n",
    "print(\"Number of Samples completed: \" + str(len(samples_list)))"
   ]
  },
  {
   "cell_type": "code",
   "execution_count": 22,
   "metadata": {},
   "outputs": [],
   "source": [
    "checksums = {}\n",
    "try:\n",
    "    lines = []\n",
    "    ftp.retrlines('RETR {}'.format(checksums_file), lines.append)\n",
    "    for line in lines:\n",
    "        checksums[line.strip().split(' ')[-1].lstrip('./')] = line.strip().split(' ')[0]\n",
    "except ftplib.error_perm as e: #the search is not done yet!\n",
    "    print('Failed to get checksums file: {} in {}'.format(checksums_file, ftp.pwd(), e))"
   ]
  },
  {
   "cell_type": "code",
   "execution_count": 5,
   "metadata": {},
   "outputs": [
    {
     "name": "stdout",
     "output_type": "stream",
     "text": [
      "Sample PXD004452-Sample-14, #Peptides: 343486\n",
      "Sample PXD004452-Sample-15, #Peptides: 354174\n",
      "Sample PXD004452-Sample-16, #Peptides: 392361\n",
      "Sample PXD004452-Sample-17, #Peptides: 384067\n",
      "Sample PXD005946-Sample-1, #Peptides: 56854\n",
      "Sample PXD005946-Sample-10, #Peptides: 48284\n",
      "Sample PXD005946-Sample-11, #Peptides: 49021\n",
      "Sample PXD005946-Sample-12, #Peptides: 67444\n",
      "Sample PXD005946-Sample-13, #Peptides: 65906\n",
      "Sample PXD005946-Sample-14, #Peptides: 43792\n",
      "Sample PXD005946-Sample-15, #Peptides: 50945\n",
      "Sample PXD005946-Sample-16, #Peptides: 56236\n",
      "Sample PXD005946-Sample-17, #Peptides: 62789\n",
      "Sample PXD005946-Sample-18, #Peptides: 62847\n",
      "Sample PXD005946-Sample-19, #Peptides: 62414\n",
      "Sample PXD005946-Sample-2, #Peptides: 55967\n",
      "Sample PXD005946-Sample-20, #Peptides: 53170\n",
      "Sample PXD005946-Sample-21, #Peptides: 52536\n",
      "Sample PXD005946-Sample-22, #Peptides: 51695\n",
      "Sample PXD005946-Sample-23, #Peptides: 30577\n",
      "Sample PXD005946-Sample-24, #Peptides: 53638\n",
      "Sample PXD005946-Sample-25, #Peptides: 25951\n",
      "Sample PXD005946-Sample-26, #Peptides: 36107\n",
      "Sample PXD005946-Sample-27, #Peptides: 31679\n",
      "Sample PXD005946-Sample-28, #Peptides: 23834\n",
      "Sample PXD005946-Sample-29, #Peptides: 57671\n",
      "Sample PXD005946-Sample-3, #Peptides: 45927\n",
      "Sample PXD005946-Sample-30, #Peptides: 58304\n",
      "Sample PXD005946-Sample-31, #Peptides: 59005\n",
      "Sample PXD005946-Sample-32, #Peptides: 44918\n",
      "Sample PXD005946-Sample-33, #Peptides: 36086\n",
      "Sample PXD005946-Sample-34, #Peptides: 22832\n",
      "Sample PXD005946-Sample-35, #Peptides: 54233\n",
      "Sample PXD005946-Sample-36, #Peptides: 32736\n",
      "Sample PXD005946-Sample-37, #Peptides: 35528\n",
      "Sample PXD005946-Sample-38, #Peptides: 59365\n",
      "Sample PXD005946-Sample-39, #Peptides: 53857\n",
      "Sample PXD005946-Sample-4, #Peptides: 35037\n",
      "Sample PXD005946-Sample-40, #Peptides: 43966\n",
      "Sample PXD005946-Sample-41, #Peptides: 69421\n",
      "Sample PXD005946-Sample-42, #Peptides: 65130\n",
      "Sample PXD005946-Sample-43, #Peptides: 59406\n",
      "Sample PXD005946-Sample-44, #Peptides: 59544\n",
      "Sample PXD005946-Sample-45, #Peptides: 12531\n",
      "Sample PXD005946-Sample-46, #Peptides: 32330\n",
      "Sample PXD005946-Sample-47, #Peptides: 60706\n",
      "Sample PXD005946-Sample-48, #Peptides: 44655\n",
      "Sample PXD005946-Sample-49, #Peptides: 49282\n",
      "Sample PXD005946-Sample-5, #Peptides: 35117\n",
      "Sample PXD005946-Sample-50, #Peptides: 49634\n",
      "Sample PXD005946-Sample-51, #Peptides: 49710\n",
      "Sample PXD005946-Sample-52, #Peptides: 41481\n",
      "Sample PXD005946-Sample-53, #Peptides: 26440\n",
      "Sample PXD005946-Sample-54, #Peptides: 50734\n",
      "Sample PXD005946-Sample-55, #Peptides: 40217\n",
      "Sample PXD005946-Sample-56, #Peptides: 40227\n",
      "Sample PXD005946-Sample-57, #Peptides: 53664\n",
      "Sample PXD005946-Sample-58, #Peptides: 48334\n",
      "Sample PXD005946-Sample-59, #Peptides: 33279\n",
      "Sample PXD005946-Sample-6, #Peptides: 37961\n",
      "Sample PXD005946-Sample-60, #Peptides: 66950\n",
      "Sample PXD005946-Sample-61, #Peptides: 66662\n",
      "Sample PXD005946-Sample-7, #Peptides: 33170\n",
      "Sample PXD005946-Sample-8, #Peptides: 29597\n",
      "Sample PXD005946-Sample-9, #Peptides: 33071\n",
      "Sample PXD014145-Sample-1, #Peptides: 131078\n",
      "Sample PXD019263-Sample-1, #Peptides: 125389\n",
      "Sample PXD019263-Sample-2, #Peptides: 30900\n",
      "Sample: checklist.chk, error: 550 Failed to open file.\n"
     ]
    }
   ],
   "source": [
    "#extract peptides from triqler csv files\n",
    "\n",
    "#get all peptides from the finished samples\n",
    "triqler_peps_df = pd.DataFrame()\n",
    "samples = []\n",
    "for sample in samples_list:\n",
    "    lines = []\n",
    "    try:\n",
    "        ftp.retrlines('RETR {}/{}/{}'.format(sample, id_dir, triqler_file_name), lines.append)\n",
    "        this_peps_df = pd.DataFrame(data=[x.split('\\t') for x in lines[1::]],\n",
    "                          columns = lines[0].split('\\t'))\n",
    "        this_peps_df['Sample'] = sample\n",
    "        print('Sample {}, #Peptides: {}'.format(sample, len(this_peps_df)))\n",
    "    except ftplib.error_perm as e: #the search is not done yet!\n",
    "        print('Sample: {}, error: {}'.format(sample, e))\n",
    "        continue #to next sample\n",
    "        \n",
    "    triqler_peps_df = pd.concat([triqler_peps_df, this_peps_df])\n",
    "    "
   ]
  },
  {
   "cell_type": "code",
   "execution_count": 6,
   "metadata": {
    "scrolled": true
   },
   "outputs": [
    {
     "name": "stdout",
     "output_type": "stream",
     "text": [
      "\n",
      "Extracted 4631859 peptides from 68 Samples, Avg. Peptides per Sample: 68115.57352941176\n",
      "\n"
     ]
    }
   ],
   "source": [
    "print('\\nExtracted {} peptides from {} Samples, Avg. Peptides per Sample: {}\\n'.format(len(triqler_peps_df), len(set(triqler_peps_df['Sample'])), len(triqler_peps_df)/len(set(triqler_peps_df.Sample))))"
   ]
  },
  {
   "cell_type": "code",
   "execution_count": 55,
   "metadata": {},
   "outputs": [
    {
     "name": "stderr",
     "output_type": "stream",
     "text": [
      "/Users/husen/anaconda3/envs/pgatk/lib/python3.6/site-packages/seaborn/distributions.py:2557: FutureWarning: `distplot` is a deprecated function and will be removed in a future version. Please adapt your code to use either `displot` (a figure-level function with similar flexibility) or `histplot` (an axes-level function for histograms).\n",
      "  warnings.warn(msg, FutureWarning)\n",
      "/Users/husen/anaconda3/envs/pgatk/lib/python3.6/site-packages/seaborn/distributions.py:2557: FutureWarning: `distplot` is a deprecated function and will be removed in a future version. Please adapt your code to use either `displot` (a figure-level function with similar flexibility) or `histplot` (an axes-level function for histograms).\n",
      "  warnings.warn(msg, FutureWarning)\n"
     ]
    },
    {
     "data": {
      "text/plain": [
       "<AxesSubplot:xlabel='searchScore', ylabel='Density'>"
      ]
     },
     "execution_count": 55,
     "metadata": {},
     "output_type": "execute_result"
    },
    {
     "data": {
      "image/png": "[encoded data removed]",
      "text/plain": [
       "<Figure size 720x720 with 1 Axes>"
      ]
     },
     "metadata": {
      "needs_background": "light"
     },
     "output_type": "display_data"
    }
   ],
   "source": [
    "# This plot is for the ditribution of scores of DECOY vs TARGET \n",
    "\n",
    "triqler_targets = triqler_peps_df.loc[triqler_peps_df.proteins.str.contains(\"DECOY\") == False]\n",
    "triqler_decoys = triqler_peps_df.loc[triqler_peps_df.proteins.str.contains(\"DECOY\") == True]\n",
    "\n",
    "plt.figure(figsize=(10, 10))\n",
    "sns.distplot(triqler_targets['searchScore'], hist=True, kde=True, \n",
    "             bins=int(180/5))\n",
    "sns.distplot(triqler_decoys['searchScore'], hist=True, kde=True, \n",
    "             bins=int(180/5))"
   ]
  },
  {
   "cell_type": "code",
   "execution_count": 86,
   "metadata": {},
   "outputs": [],
   "source": [
    "#shorten accessions to save memory\n",
    "def rep_acc(accessions):\n",
    "    rep_accessions = []\n",
    "    if set(accessions.split(';')).intersection(conatm_ids):\n",
    "        return 'contaminant'\n",
    "    \n",
    "    for acc in accessions.split(';'):\n",
    "        if acc.startswith('ENSP'):\n",
    "            return 'ENSP'\n",
    "    \n",
    "    for acc in accessions.split(';'):\n",
    "        if acc.split('_')[0] in ['altorf', 'pseudo', 'ncRNA', 'DECOY']:\n",
    "            return 'non_canonical'\n",
    "\n",
    "    for acc in accessions.split(';'):\n",
    "        if acc.split(':')[0] in ['COSMIC', 'cbiomut']:\n",
    "            return 'variant'\n",
    "\n",
    "    return accessions"
   ]
  },
  {
   "cell_type": "code",
   "execution_count": 87,
   "metadata": {},
   "outputs": [
    {
     "name": "stderr",
     "output_type": "stream",
     "text": [
      "/Users/husen/anaconda3/envs/pgatk/lib/python3.6/site-packages/ipykernel_launcher.py:1: SettingWithCopyWarning: \n",
      "A value is trying to be set on a copy of a slice from a DataFrame.\n",
      "Try using .loc[row_indexer,col_indexer] = value instead\n",
      "\n",
      "See the caveats in the documentation: https://pandas.pydata.org/pandas-docs/stable/user_guide/indexing.html#returning-a-view-versus-a-copy\n",
      "  \"\"\"Entry point for launching an IPython kernel.\n"
     ]
    }
   ],
   "source": [
    "triqler_targets['Class'] = triqler_targets['proteins'].apply(rep_acc)"
   ]
  },
  {
   "cell_type": "code",
   "execution_count": 88,
   "metadata": {},
   "outputs": [
    {
     "data": {
      "text/plain": [
       "ENSP             4125497\n",
       "non_canonical     315085\n",
       "contaminant        93289\n",
       "variant            16518\n",
       "Name: Class, dtype: int64"
      ]
     },
     "execution_count": 88,
     "metadata": {},
     "output_type": "execute_result"
    }
   ],
   "source": [
    "triqler_targets.head\n",
    "triqler_targets['Class'].value_counts()"
   ]
  },
  {
   "cell_type": "code",
   "execution_count": 92,
   "metadata": {},
   "outputs": [
    {
     "data": {
      "text/html": [
       "<div>\n",
       "<style scoped>\n",
       "    .dataframe tbody tr th:only-of-type {\n",
       "        vertical-align: middle;\n",
       "    }\n",
       "\n",
       "    .dataframe tbody tr th {\n",
       "        vertical-align: top;\n",
       "    }\n",
       "\n",
       "    .dataframe thead th {\n",
       "        text-align: right;\n",
       "    }\n",
       "</style>\n",
       "<table border=\"1\" class=\"dataframe\">\n",
       "  <thead>\n",
       "    <tr style=\"text-align: right;\">\n",
       "      <th></th>\n",
       "      <th>run</th>\n",
       "      <th>condition</th>\n",
       "      <th>charge</th>\n",
       "      <th>searchScore</th>\n",
       "      <th>intensity</th>\n",
       "      <th>peptide</th>\n",
       "      <th>proteins</th>\n",
       "      <th>Sample</th>\n",
       "      <th>Class</th>\n",
       "    </tr>\n",
       "  </thead>\n",
       "  <tbody>\n",
       "    <tr>\n",
       "      <th>0</th>\n",
       "      <td>1</td>\n",
       "      <td>A549</td>\n",
       "      <td>2</td>\n",
       "      <td>0.99888349</td>\n",
       "      <td>2.490983e07</td>\n",
       "      <td>.(Acetyl)AAAAAAAAAAGAAGGR</td>\n",
       "      <td>ENSP00000216727.4;ENSP00000380446.2</td>\n",
       "      <td>PXD004452-Sample-14</td>\n",
       "      <td>ENSP</td>\n",
       "    </tr>\n",
       "    <tr>\n",
       "      <th>1</th>\n",
       "      <td>31</td>\n",
       "      <td>A549</td>\n",
       "      <td>2</td>\n",
       "      <td>0.999671721</td>\n",
       "      <td>2.556688e08</td>\n",
       "      <td>.(Acetyl)AAAAAAAAAAGAAGGR</td>\n",
       "      <td>ENSP00000216727.4;ENSP00000380446.2</td>\n",
       "      <td>PXD004452-Sample-14</td>\n",
       "      <td>ENSP</td>\n",
       "    </tr>\n",
       "  </tbody>\n",
       "</table>\n",
       "</div>"
      ],
      "text/plain": [
       "  run condition charge  searchScore    intensity                    peptide  \\\n",
       "0   1      A549      2   0.99888349  2.490983e07  .(Acetyl)AAAAAAAAAAGAAGGR   \n",
       "1  31      A549      2  0.999671721  2.556688e08  .(Acetyl)AAAAAAAAAAGAAGGR   \n",
       "\n",
       "                              proteins               Sample Class  \n",
       "0  ENSP00000216727.4;ENSP00000380446.2  PXD004452-Sample-14  ENSP  \n",
       "1  ENSP00000216727.4;ENSP00000380446.2  PXD004452-Sample-14  ENSP  "
      ]
     },
     "execution_count": 92,
     "metadata": {},
     "output_type": "execute_result"
    }
   ],
   "source": [
    "triqler_targets.head(2)"
   ]
  },
  {
   "cell_type": "code",
   "execution_count": 90,
   "metadata": {
    "scrolled": false
   },
   "outputs": [
    {
     "data": {
      "text/plain": [
       "<AxesSubplot:xlabel='Sample'>"
      ]
     },
     "execution_count": 90,
     "metadata": {},
     "output_type": "execute_result"
    },
    {
     "data": {
      "image/png": "[encoded data removed]",
      "text/plain": [
       "<Figure size 1080x720 with 1 Axes>"
      ]
     },
     "metadata": {
      "needs_background": "light"
     },
     "output_type": "display_data"
    }
   ],
   "source": [
    "plt.rcParams[\"figure.figsize\"] = [15, 10]\n",
    "triqler_targets.groupby('Class').Sample.value_counts().unstack(0).plot.bar()"
   ]
  },
  {
   "cell_type": "code",
   "execution_count": 91,
   "metadata": {},
   "outputs": [],
   "source": [
    "triqler_targets.to_csv('all_'+triqler_file_name, sep='\\t', index=False)"
   ]
  },
  {
   "cell_type": "code",
   "execution_count": 119,
   "metadata": {},
   "outputs": [],
   "source": [
    "triqler_noncan_targets = triqler_targets[triqler_targets['Class'].str.contains(r\"variant|non_canonical\")==True]\n",
    "triqler_noncan_seqs = list(set([rep(x) for x in triqler_noncan_targets['peptide'].tolist()]))"
   ]
  },
  {
   "cell_type": "code",
   "execution_count": 120,
   "metadata": {},
   "outputs": [],
   "source": [
    "#get non-canonical peptides that are found in canonical proteins\n",
    "triqler_found_peps = []\n",
    "auto = ahocorasick.Automaton()\n",
    "for noncan_seq in triqler_noncan_seqs:\n",
    "    auto.add_word(noncan_seq, noncan_seq)\n",
    "auto.make_automaton()\n",
    "for canseq in allcan_seqs:\n",
    "    for end_ind, found in auto.iter(canseq):\n",
    "        triqler_found_peps.append(found)"
   ]
  },
  {
   "cell_type": "code",
   "execution_count": 121,
   "metadata": {},
   "outputs": [],
   "source": [
    "triqler_noncan_targets = triqler_noncan_targets[triqler_noncan_targets['peptide'].apply(rep).isin(triqler_found_peps)==False]"
   ]
  },
  {
   "cell_type": "code",
   "execution_count": 122,
   "metadata": {
    "scrolled": true
   },
   "outputs": [
    {
     "data": {
      "text/plain": [
       "<AxesSubplot:xlabel='Sample'>"
      ]
     },
     "execution_count": 122,
     "metadata": {},
     "output_type": "execute_result"
    },
    {
     "data": {
      "image/png": "[encoded data removed]",
      "text/plain": [
       "<Figure size 1440x720 with 1 Axes>"
      ]
     },
     "metadata": {
      "needs_background": "light"
     },
     "output_type": "display_data"
    }
   ],
   "source": [
    "plt.rcParams[\"figure.figsize\"] = [20, 10]\n",
    "triqler_noncan_targets.groupby('Class').Sample.value_counts().unstack(0).plot.bar()"
   ]
  },
  {
   "cell_type": "code",
   "execution_count": 101,
   "metadata": {},
   "outputs": [],
   "source": [
    "#search for occurence in public repositories ()\n",
    "def get_counts(seq):\n",
    "    \n",
    "    #PGMDB\n",
    "    gpmdb_response = requests.get('http://rest.thegpm.org/1/peptide/accessions/seq={}'.format(seq))\n",
    "    gpmdb_species = {'human': 0, 'other': 0}\n",
    "    pgmdb_count = 0\n",
    "    for prot, count in gpmdb_response.json().items():\n",
    "        if 'ENSP' in prot:\n",
    "            gpmdb_species['human']+=count\n",
    "        else:\n",
    "            gpmdb_species['other']+=count\n",
    "        pgmdb_count += count\n",
    "    \n",
    "    #MASSIVE\n",
    "    massive_url = 'http://massive.ucsd.edu/ProteoSAFe/proxi/v0.1/peptidoforms?resultType=compact&peptideSequence={}'.format(seq)\n",
    "    massive_result = requests.get(massive_url)\n",
    "    massive_count = 0\n",
    "    if massive_result.status_code == 200:\n",
    "        massive_count = sum([int(d['countPSM']) for d in massive_result.json()])\n",
    "    \n",
    "    #PeptideAtlas\n",
    "    peptideAtlas_url = 'http://www.peptideatlas.org/api/proxi/v0.1/peptidoforms?resultType=compact&peptideSequence={}'.format(seq)\n",
    "    peptideAtlas_count = 0#sum([int(v) for x,v in requests.get(peptideAtlas_url).json().items()])\n",
    "    \n",
    "    sum_scores = pgmdb_count + massive_count + peptideAtlas_count\n",
    "    #print(sum_scores, pgmdb_count, massive_count, peptideAtlas_count)\n",
    "    \n",
    "    return [seq, ','.join(['{}:{}'.format(k,v) for k,v in gpmdb_species.items()]), sum_scores]\n",
    "\n",
    "seqs_counts = []\n",
    "for seq in list(set(triqler_noncan_targets.sequence.tolist()[0:5])):\n",
    "    seqs_counts.append(get_counts(seq))\n",
    "\n",
    "counts_df = pd.DataFrame(seqs_counts, columns = ['sequence', 'pgmdb_info', 'countsPGMDB|MASSIVE|PepAtlas'])pd.merge(mztab_psms_noncan_targets, counts_df, on='sequence')\n",
    "len(counts_df)"
   ]
  },
  {
   "cell_type": "code",
   "execution_count": 137,
   "metadata": {
    "scrolled": true
   },
   "outputs": [
    {
     "name": "stdout",
     "output_type": "stream",
     "text": [
      "#PSMs per class:\n",
      " non_canonical    88865\n",
      "variant           1446\n",
      "Name: Class, dtype: int64\n",
      "#unique non_can|var seqs:  44284\n",
      "#unique non_can seqs:  43501\n",
      "#unique var seqs:  786\n"
     ]
    }
   ],
   "source": [
    "print('#PSMs per class:\\n', triqler_noncan_targets['Class'].value_counts())\n",
    "print('#unique non_can|var seqs: ', len(set(triqler_noncan_targets['peptide'].apply(rep))))\n",
    "print('#unique non_can seqs: ', len(set(triqler_noncan_targets[triqler_noncan_targets['Class'] == \"non_canonical\"]['peptide'].apply(rep))))\n",
    "print('#unique var seqs: ', len(set(triqler_noncan_targets[triqler_noncan_targets['Class'] == \"variant\"]['peptide'].apply(rep))))"
   ]
  },
  {
   "cell_type": "code",
   "execution_count": null,
   "metadata": {},
   "outputs": [],
   "source": []
  }
 ],
 "metadata": {
  "kernelspec": {
   "display_name": "Python 3",
   "language": "python",
   "name": "python3"
  },
  "language_info": {
   "codemirror_mode": {
    "name": "ipython",
    "version": 3
   },
   "file_extension": ".py",
   "mimetype": "text/x-python",
   "name": "python",
   "nbconvert_exporter": "python",
   "pygments_lexer": "ipython3",
   "version": "3.6.12"
  }
 },
 "nbformat": 4,
 "nbformat_minor": 4
}
