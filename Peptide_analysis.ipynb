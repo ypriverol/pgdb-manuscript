{
 "cells": [
  {
   "cell_type": "code",
   "execution_count": 9,
   "metadata": {},
   "outputs": [],
   "source": [
    "import sys\n",
    "import ftplib\n",
    "import pandas as pd"
   ]
  },
  {
   "cell_type": "code",
   "execution_count": 40,
   "metadata": {},
   "outputs": [
    {
     "name": "stdout",
     "output_type": "stream",
     "text": [
      "['PXD005946-Sample-10', 'PXD005946-Sample-11', 'PXD005946-Sample-12', 'PXD005946-Sample-13', 'PXD005946-Sample-15', 'PXD005946-Sample-16', 'PXD005946-Sample-17', 'PXD005946-Sample-18', 'PXD005946-Sample-19', 'PXD005946-Sample-20', 'PXD005946-Sample-21', 'PXD005946-Sample-22', 'PXD005946-Sample-23', 'PXD005946-Sample-24', 'PXD005946-Sample-39', 'PXD012255-Sample-1', 'PXD015270-Sample-1']\n"
     ]
    }
   ],
   "source": [
    "#connect to ftp and get the list of samples\n",
    "ftp_url = 'ftp.pride.ebi.ac.uk'\n",
    "samples_dir = 'pride/data/proteomes/proteogenomics/cell-lines'\n",
    "id_dir = 'proteomics_lfq'\n",
    "peps_file = 'out_triqler.tsv'\n",
    "\n",
    "output_file = 'identified_peptides.tsv'\n",
    "\n",
    "try:\n",
    "    ftp = ftplib.FTP(ftp_url, timeout=3600)\n",
    "    ftp.login()\n",
    "    ftp.cwd(samples_dir)\n",
    "    samples_list = ftp.nlst()\n",
    "except ftplib.all_errors:\n",
    "    print('Failed to connect to the ftp site')\n",
    "\n",
    "print(samples_list)"
   ]
  },
  {
   "cell_type": "code",
   "execution_count": 41,
   "metadata": {},
   "outputs": [
    {
     "name": "stdout",
     "output_type": "stream",
     "text": [
      "failed to extract all lines from PXD005946-Sample-12, error:550 Failed to open file.\n",
      "failed to extract all lines from PXD005946-Sample-17, error:550 Failed to open file.\n",
      "failed to extract all lines from PXD012255-Sample-1, error:550 Failed to open file.\n",
      "                    run condition charge searchScore    intensity  \\\n",
      "PXD005946-Sample-10  10      T47D      2   0.9166502  8.785152e05   \n",
      "PXD005946-Sample-10   5      T47D      3   0.9568733  1.952683e06   \n",
      "\n",
      "                                      peptide  \\\n",
      "PXD005946-Sample-10  .(Acetyl)AAALVVALESSPGGR   \n",
      "PXD005946-Sample-10      .(Acetyl)AADIDQEVKER   \n",
      "\n",
      "                                                              proteins  \n",
      "PXD005946-Sample-10                  ncRNA_ENST00000438290.2_3_codon_4  \n",
      "PXD005946-Sample-10  ENSP00000442318.1;altorf_ENST00000545606.6_1_c...  \n",
      "\n",
      "Extracted 125048 peptides from these 14 samples:PXD005946-Sample-19\n",
      "PXD005946-Sample-24\n",
      "PXD015270-Sample-1\n",
      "PXD005946-Sample-15\n",
      "PXD005946-Sample-13\n",
      "PXD005946-Sample-16\n",
      "PXD005946-Sample-11\n",
      "PXD005946-Sample-23\n",
      "PXD005946-Sample-21\n",
      "PXD005946-Sample-10\n",
      "PXD005946-Sample-22\n",
      "PXD005946-Sample-39\n",
      "PXD005946-Sample-18\n",
      "PXD005946-Sample-20\n",
      "\n"
     ]
    }
   ],
   "source": [
    "#increase max limit to get larger files\n",
    "ftplib.FTP.maxline = 100000\n",
    "\n",
    "#get all peptides from the finished samples\n",
    "peps_df = pd.DataFrame()\n",
    "samples = []\n",
    "for sample in samples_list:\n",
    "    peps = []\n",
    "    try:\n",
    "        ftp.retrlines('RETR {}/{}/{}'.format(sample, id_dir, peps_file), peps.append)\n",
    "        df = pd.DataFrame(data=[x.split('\\t') for x in peps[1::]], \n",
    "                          index=[sample for x in peps[1::]],\n",
    "                          columns = peps[0].split('\\t'))\n",
    "    except ftplib.error_perm as e: #the search is not done yet!\n",
    "        print('failed to extract all lines from {}, error:{}'.format(sample, e))\n",
    "        continue #to next sample\n",
    "    peps_df = pd.concat([peps_df, df])\n",
    "    \n",
    "print(peps_df.head(2))\n",
    "\n",
    "print('\\nExtracted {} peptides from these {} samples:{}\\n'.format(len(peps_df), len(set(peps_df.index)), '\\n'.join(set(peps_df.index))))"
   ]
  },
  {
   "cell_type": "code",
   "execution_count": 31,
   "metadata": {},
   "outputs": [],
   "source": [
    "#close ftp connection\n",
    "ftp.close()"
   ]
  },
  {
   "cell_type": "code",
   "execution_count": 43,
   "metadata": {},
   "outputs": [],
   "source": [
    "peps_df.to_csv(output_file, sep='\\t', index=False)"
   ]
  },
  {
   "cell_type": "code",
   "execution_count": null,
   "metadata": {},
   "outputs": [],
   "source": []
  }
 ],
 "metadata": {
  "kernelspec": {
   "display_name": "Python 3",
   "language": "python",
   "name": "python3"
  },
  "language_info": {
   "codemirror_mode": {
    "name": "ipython",
    "version": 3
   },
   "file_extension": ".py",
   "mimetype": "text/x-python",
   "name": "python",
   "nbconvert_exporter": "python",
   "pygments_lexer": "ipython3",
   "version": "3.8.5"
  }
 },
 "nbformat": 4,
 "nbformat_minor": 4
}
